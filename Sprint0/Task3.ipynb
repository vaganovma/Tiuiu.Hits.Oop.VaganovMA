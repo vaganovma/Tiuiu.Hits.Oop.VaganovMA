{
 "cells": [
  {
   "cell_type": "markdown",
   "metadata": {},
   "source": [
    "<h1 style=\"color:DodgerBlue\">Индивидальный проект</h1>"
   ]
  },
  {
   "cell_type": "markdown",
   "metadata": {},
   "source": [
    "<h2 style=\"color:DodgerBlue\">Название проекта:</h2>\n",
    "Класс CreditCard в C#, представляющий информацию \n",
    "о кредитных картах\n",
    "\n",
    "----\n",
    "\n",
    "### Вариант задания 8\n",
    "\n"
   ]
  },
  {
   "cell_type": "markdown",
   "metadata": {},
   "source": [
    "<h2 style=\"color:DodgerBlue\">Описание проекта:</h2>\n",
    "\n",
    "----\n",
    "\n",
    "Описание задачи: \n",
    "Создать базовый класс CreditCard в C#, который будет представлять информацию \n",
    "о кредитных картах. На основе этого класса разработать 2-3 производных класса, \n",
    "демонстрирующих принципы наследования и полиморфизма. В каждом из классов \n",
    "должны быть реализованы новые атрибуты и методы, а также переопределены \n",
    "некоторые методы базового класса для демонстрации полиморфизма. \n",
    "Требования к базовому классу CreditCard: \n",
    "• Атрибуты: Номер карты (CardNumber), Холдера (HolderName), Срок \n",
    "действия (ExpiryDate). \n",
    "• Методы: \n",
    "o GetInfo(): метод для получения информации о кредитной карте в виде \n",
    "строки. \n",
    "o Pay(): метод для оплаты покупки с использованием карты. \n",
    "o CheckBalance(): метод для проверки баланса на карте. \n",
    "Требования к производным классам: \n",
    "1. GoldCard (GoldCreditCard): Должен содержать дополнительные атрибуты, \n",
    "такие как Бесплатные бонусные мили (BonusMiles). Метод Pay() должен быть \n",
    "переопределен для добавления информации о получении бонусных миль \n",
    "при оплате покупки. \n",
    "2. PremiumCard (PremiumCreditCard): Должен содержать дополнительные \n",
    "атрибуты, \n",
    "такие \n",
    "как \n",
    "Ассистент \n",
    "поддержки \n",
    "(SupportAssistant). \n",
    "Метод CheckBalance() должен быть переопределен для предоставления \n",
    "возможности обратиться за помощью к ассистенту поддержки в случае \n",
    "проблем с балансом. \n",
    "3. CorporateCard (CorporateCreditCard) (если требуется третий класс): Должен \n",
    "содержать дополнительные атрибуты, такие как Компания (Company). \n",
    "Метод GetInfo() должен быть переопределен для включения информации о \n",
    "компании в описании карты.\n",
    "\n"
   ]
  },
  {
   "cell_type": "markdown",
   "metadata": {},
   "source": [
    "<h2 style=\"color:DodgerBlue\">Реализация:</h2>\n",
    "\n",
    "----"
   ]
  },
  {
   "cell_type": "code",
   "execution_count": 1,
   "metadata": {
    "dotnet_interactive": {
     "language": "csharp"
    },
    "polyglot_notebook": {
     "kernelName": "csharp"
    }
   },
   "outputs": [],
   "source": []
  }
 ],
 "metadata": {
  "kernelspec": {
   "display_name": ".NET (C#)",
   "language": "C#",
   "name": ".net-csharp"
  },
  "polyglot_notebook": {
   "kernelInfo": {
    "defaultKernelName": "csharp",
    "items": [
     {
      "aliases": [],
      "languageName": "csharp",
      "name": "csharp"
     }
    ]
   }
  }
 },
 "nbformat": 4,
 "nbformat_minor": 2
}
